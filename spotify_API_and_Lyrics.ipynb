{
  "nbformat": 4,
  "nbformat_minor": 0,
  "metadata": {
    "colab": {
      "name": "spotify_API_and_Lyrics.ipynb",
      "provenance": [],
      "collapsed_sections": [
        "hDe_UA1Vo5Mp",
        "ff_XyC1DpOq4",
        "NZLXYAUWpaK2"
      ],
      "authorship_tag": "ABX9TyMWGc6FhmX03M0phR4jkts0",
      "include_colab_link": true
    },
    "kernelspec": {
      "name": "python3",
      "display_name": "Python 3"
    },
    "language_info": {
      "name": "python"
    }
  },
  "cells": [
    {
      "cell_type": "markdown",
      "metadata": {
        "id": "view-in-github",
        "colab_type": "text"
      },
      "source": [
        "<a href=\"https://colab.research.google.com/github/fedemoss/Clustering-of-Spotify-Songs/blob/main/spotify_API_and_Lyrics.ipynb\" target=\"_parent\"><img src=\"https://colab.research.google.com/assets/colab-badge.svg\" alt=\"Open In Colab\"/></a>"
      ]
    },
    {
      "cell_type": "markdown",
      "metadata": {
        "id": "mudsy2-Rmcxl"
      },
      "source": [
        "---\n",
        "---\n",
        "Este codigo se encarga de conectarme con la API de Spotify, pedirle mis Playlists y sacar las canciones de cada Playlist. En particular, esto se hace con la Playlist 'TOP 50 Argentina'. La razon de esto nace en que la idea de este proyecto era crear un algoritmo predictor de posibles canciones que puedan estar en el TOP 50. Este proyecto (Hobby) fue mutando y al final, descartamos la idea del predictor y nos enfocamos en Clusterizar grupos de canciones con features similares (Las features de una cancion las da Spotify: Bailabilidad, Nota, etc...). \n",
        "\n",
        "Ademas, este codigo se encarga de 'conseguir' letras de la famosa pagina de letras 'letras.com'. Para cada cancion de cada Playlist, sacamos la letra de dicha cancion y ponemos todo junto (cancion, features, letra) en un Dataframe. \n",
        "\n",
        "El analisis del Dataframe final lo analizaremos en otro Notebook. \n",
        "\n",
        "---\n",
        "---"
      ]
    },
    {
      "cell_type": "code",
      "metadata": {
        "id": "azcw9ATCkJY0"
      },
      "source": [
        "# Importamos la librería requests para hacer peticiones a la API \n",
        "# y json para manipular ese tipo de datos\n",
        "import requests \n",
        "import json\n",
        "import numpy as np\n",
        "from bs4 import BeautifulSoup as bs\n",
        "import pandas as pd"
      ],
      "execution_count": null,
      "outputs": []
    },
    {
      "cell_type": "markdown",
      "metadata": {
        "id": "hDe_UA1Vo5Mp"
      },
      "source": [
        "# Connect to SPOTIFY"
      ]
    },
    {
      "cell_type": "code",
      "metadata": {
        "colab": {
          "base_uri": "https://localhost:8080/"
        },
        "id": "WEsrQli4ih1q",
        "outputId": "927c9c2e-16d5-4064-aefd-20eb90e4fc38"
      },
      "source": [
        "# Claves obtenidas de Spotify.\n",
        "\n",
        "CLIENT_ID = 'a0eb698c3613416685dbb50274e4437d'\n",
        "CLIENT_SECRET = 'ac844b556d06485a9404fba52a9f839e'\n",
        "\n",
        "# POST donde le pasamos las clave de la app\n",
        "response = requests.post('https://accounts.spotify.com/api/token', data = {'grant_type': 'client_credentials', 'client_id': CLIENT_ID, 'client_secret': CLIENT_SECRET})\n",
        "print(response.status_code)"
      ],
      "execution_count": null,
      "outputs": [
        {
          "output_type": "stream",
          "name": "stdout",
          "text": [
            "200\n"
          ]
        }
      ]
    },
    {
      "cell_type": "markdown",
      "metadata": {
        "id": "ANSGeaT5kgIY"
      },
      "source": [
        "---\n",
        "\n",
        "Bearer Token\n",
        "\n",
        "---"
      ]
    },
    {
      "cell_type": "code",
      "metadata": {
        "colab": {
          "base_uri": "https://localhost:8080/"
        },
        "id": "4gCwvY8RkYWl",
        "outputId": "5ae99774-7212-4a01-c693-6b016504ff4c"
      },
      "source": [
        "# Guardamos el bearer token para usarlo en las peticiones de la API\n",
        "access_token = response.json()['access_token']\n",
        "print('Access Token =',access_token)"
      ],
      "execution_count": null,
      "outputs": [
        {
          "output_type": "stream",
          "name": "stdout",
          "text": [
            "Access Token = BQAAm4wuzgTaX-KzP7p6p3kCfduQXpttKBy2TXuMWXBPtLc6FCDLwMnRvdrvcqwV_ai7oAaaX_sYKr6CfZA\n"
          ]
        }
      ]
    },
    {
      "cell_type": "markdown",
      "metadata": {
        "id": "c6i5qGBAmldF"
      },
      "source": [
        "\n",
        "---\n",
        "\n",
        "Esta clase nos permite llamar las funciones que nos interesan\n",
        "\n",
        "\n",
        "Obs: tuve que modificarla. Me tiraba error siempre cuando la queria usar. El error estaba cuando queria correr la linea\n",
        "\n",
        "\n",
        "\n",
        "```\n",
        "len(json_data['items'])\n",
        "```\n",
        "Lo cambie por un np array y ahora todo anda bien. Es decir, hice \n",
        "\n",
        "```\n",
        "np.size(json_data['items'])\n",
        "```\n",
        "\n",
        "\n",
        "Ademas, agregue varias features mas cuando pido get_songs_on_playlists ... "
      ]
    },
    {
      "cell_type": "code",
      "metadata": {
        "id": "M__gRvVOklhj"
      },
      "source": [
        "class spotydatos:\n",
        "  def __init__(self, CLIENT_ID, CLIENT_SECTRET):\n",
        "    self.client_id=CLIENT_ID\n",
        "    self.client_secret=CLIENT_SECTRET\n",
        "    self.access_token=requests.post('https://accounts.spotify.com/api/token', data = {'grant_type': 'client_credentials', 'client_id': self.client_id, 'client_secret': self.client_secret}).json()['access_token']\n",
        "    if response.status_code == 200:\n",
        "      pass\n",
        "    elif response.status_code != 200:\n",
        "      print('ERROR, please verify ids (status code:{})'.format(response.status_code))\n",
        "\n",
        "  def change_token(token):\n",
        "    self.access_token=token\n",
        "\n",
        "  def get_playslists(self,user,num=5):\n",
        "    '''\n",
        "    Returns information about the public playtlists of a given spotify user (No scope is required)\n",
        "    Returns 4 lists: \n",
        "    1 Names of playlists\n",
        "    2 Owner of playslist\n",
        "    3 URL of playlist\n",
        "    4 playlist id\n",
        "    Arguement: \"user\" is the users name. \"num\" is the number of playlists to obtain. if the user has less than the asked number, all the playlists will be returned.\n",
        "    '''\n",
        "    playlists_names=[]\n",
        "    owner_of_playlist=[]\n",
        "    playlist_URL=[]\n",
        "    playlist_id=[]\n",
        "    headers = {'Authorization': 'Bearer {}'.format(self.access_token), 'Accept': 'application/json', 'Content-Type': 'application/json'}\n",
        "    url = 'https://api.spotify.com/v1/users/{}/playlists'.format(user)\n",
        "    \n",
        "    response = requests.get(url, params = {}, headers = headers)\n",
        "    json_data = response.json()\n",
        "    for i in range(num):\n",
        "      try:\n",
        "        playlists_names.append(json_data['items'][i]['name'])\n",
        "        owner_of_playlist.append(json_data['items'][i]['owner']['id'])\n",
        "        playlist_URL.append(json_data['items'][i]['external_urls']['spotify'])\n",
        "        playlist_id.append(json_data['items'][i]['id'])\n",
        "      except:\n",
        "        pass\n",
        "    return  playlists_names,owner_of_playlist,playlist_URL,playlist_id\n",
        "\n",
        "\n",
        "  def recently_played(self,auth_token,num=5):\n",
        "    '''\n",
        "    Return recently played songs information in form of lists, the most recent song is placed first\n",
        "    The token must have the 'user-read-recently-played' scope authorization on the Spotify API\n",
        "    Returns 4 lists:\n",
        "    1 Song name\n",
        "    2 Artist name\n",
        "    3 Album name\n",
        "    4 Song id\n",
        "    Arguments: \"auth_token\" is the users access tocken, must have the 'user-read-recently-played' scope authorized. \"num\" is the maximum number of items to return, maximum: 50.\n",
        "    '''\n",
        "    song_name=[]\n",
        "    artist_name=[]\n",
        "    album_name=[]\n",
        "    song_id=[]\n",
        "    headers = {'Authorization': 'Bearer {}'.format(auth_token), 'Accept': 'application/json', 'Content-Type': 'application/json'}\n",
        "    url = 'https://api.spotify.com/v1/me/player/recently-played?limit={}'.format(num)\n",
        "    response = requests.get(url, params = {}, headers = headers)\n",
        "    json_data = response.json()\n",
        "    if len(json.dumps(json_data, indent = 4))<200:\n",
        "      print(json.dumps(json_data, indent = 4))\n",
        "    elif len(json.dumps(json_data, indent = 4))>200:\n",
        "      for i in range(num):\n",
        "        song_name.append(json_data['items'][i]['track']['name'])\n",
        "        artist_name.append(json_data['items'][i]['track']['artists'][0]['name'])\n",
        "        album_name.append(json_data['items'][i]['track']['album']['name'])\n",
        "        song_id.append(json_data['items'][i]['track']['id'])\n",
        "    return song_name,artist_name,album_name,song_id\n",
        "\n",
        "  def get_song_features(self,track_id):\n",
        "    '''\n",
        "    Return a dict of features of a given song id. No scope required\n",
        "    dict_keys(['danceability', 'energy', 'key', 'loudness', 'mode', 'speechiness', 'acousticness', 'instrumentalness', 'liveness', 'valence', 'tempo', 'type', 'id', 'duration_ms', 'time_signature'])\n",
        "    ''' \n",
        "    features={}\n",
        "    headers = {'Authorization': 'Bearer {}'.format(self.access_token), 'Accept': 'application/json', 'Content-Type': 'application/json'}\n",
        "    url = 'https://api.spotify.com/v1/audio-features/{}'.format(track_id)\n",
        "    response = requests.get(url, params = {}, headers = headers)\n",
        "    json_data = response.json()\n",
        "    features_list=json.dumps(json_data, indent = 4).replace('\\n','').replace(' ','').replace('{','').replace('}','').split(',')\n",
        "    keys=[]\n",
        "    values=[]\n",
        "    for i in range(np.size(features_list)):\n",
        "      keys.append(features_list[i].split(':')[0].replace('\"',''))\n",
        "      values.append(features_list[i].split(':')[1].replace('\"',''))\n",
        "    for j in range(np.size(keys)):\n",
        "      try:\n",
        "        values[j]=float(values[j])\n",
        "        features['{}'.format(keys[j])]=values[j]\n",
        "      except:\n",
        "        features['{}'.format(keys[j])]='{}'.format(values[j])\n",
        "        \n",
        "    del features['analysis_url'] #dropea estas features \n",
        "    del features['track_href']\n",
        "    del features['uri']\n",
        "    return features\n",
        "\n",
        "  def get_songs_on_playlist(self,playlist_id,only_id=True):\n",
        "    '''\n",
        "    Returns information about the songs on a given playlist.\n",
        "    If the only_id is set to True (default), only the ids of the songs on that playlists are returned. If only_id is False, then the function returns a list\n",
        "    of dictionaries, each with data about one song in the playlist  \n",
        "    '''\n",
        "    headers = {'Authorization': 'Bearer {}'.format(access_token), 'Accept': 'application/json', 'Content-Type': 'application/json'}\n",
        "    playlist_id=playlist_id\n",
        "    url = 'https://api.spotify.com/v1/playlists/{}/tracks'.format(playlist_id)\n",
        "    response = requests.get(url, params = {}, headers = headers)\n",
        "    json_data = response.json()\n",
        "    if only_id==True:\n",
        "      ids=[]\n",
        "      for i in range(np.size(json_data['items'])):\n",
        "        ids.append(json_data['items'][i]['track']['id'])\n",
        "      return ids\n",
        "    elif only_id==False:\n",
        "      info=[]\n",
        "      for i in range(np.size(json_data['items'])):\n",
        "        track_dict={}\n",
        "        track_dict['Track number']=i+1\n",
        "        track_dict['Track name'] = json_data['items'][i]['track']['name']\n",
        "        track_dict['Album'] = json_data['items'][i]['track']['album']['name']\n",
        "        track_dict['Artist'] = json_data['items'][i]['track']['album']['artists'][0]['name']\n",
        "        track_dict['id'] = json_data['items'][i]['track']['id']\n",
        "        track_dict['Popularity'] = json_data['items'][i]['track']['popularity'] #Agrego features\n",
        "        track_dict['Disc number'] = json_data['items'][i]['track']['disc_number']\n",
        "        track_dict['Track number'] = json_data['items'][i]['track']['track_number']\n",
        "        track_dict['Total tracks'] = json_data['items'][i]['track']['album']['total_tracks']\n",
        "        track_dict['Date'] = json_data['items'][i]['track']['album']['release_date']\n",
        "\n",
        "\n",
        "        info.append(track_dict.copy())\n",
        "      return info\n"
      ],
      "execution_count": null,
      "outputs": []
    },
    {
      "cell_type": "markdown",
      "metadata": {
        "id": "dOba-vQYn6eK"
      },
      "source": [
        "Saquemos las canciones de alguna playlist que haya creado"
      ]
    },
    {
      "cell_type": "code",
      "metadata": {
        "id": "ee-sU-neo6lL",
        "colab": {
          "base_uri": "https://localhost:8080/"
        },
        "outputId": "8b60e0be-3d69-4bc4-ac4f-e39d69272a28"
      },
      "source": [
        "# Acá le pasamos el token que obtuvimos antes. Lo demás son algunas cosas generales que suelen ir \n",
        "headers = {'Authorization': 'Bearer {}'.format(access_token), 'Accept': 'application/json', 'Content-Type': 'application/json'}\n",
        "user='11169876763'\n",
        "url = 'https://api.spotify.com/v1/users/{}/playlists?limit=30&offset=0'.format(user)\n",
        "\n",
        "# En este caso no lleva ningún parámetro, el id de la canción va directamente en el url\n",
        "response = requests.get(url, params = {}, headers = headers)\n",
        "json_data = response.json()\n",
        "# Vemos el json de la respuesta\n",
        "json_data.keys()"
      ],
      "execution_count": null,
      "outputs": [
        {
          "output_type": "execute_result",
          "data": {
            "text/plain": [
              "dict_keys(['href', 'items', 'limit', 'next', 'offset', 'previous', 'total'])"
            ]
          },
          "metadata": {},
          "execution_count": 5
        }
      ]
    },
    {
      "cell_type": "code",
      "metadata": {
        "colab": {
          "base_uri": "https://localhost:8080/"
        },
        "id": "gd8CoLEEqtBm",
        "outputId": "8aaf9c34-0ea0-4b92-b49d-f3462bc12748"
      },
      "source": [
        "#elijamos alguna de mis playlists\n",
        "len_json = np.size(json_data['items'])\n",
        "\n",
        "for i in range(len_json):\n",
        "  print(i,json_data['items'][i]['name'])"
      ],
      "execution_count": null,
      "outputs": [
        {
          "output_type": "stream",
          "name": "stdout",
          "text": [
            "0 Coconut Radio\n",
            "1 Rock Argentino años 60\n",
            "2 ROCK NACIONAL ARGENTINO || 2020\n",
            "3  ROCK ARGENTINO 🔥 : Rock Nacional Argentino\n",
            "4 Rock argentino 2000-2020\n",
            "5 Rock argentino 2000\n",
            "6 Rock Nacional Argentino 2000s\n",
            "7 Rock Argentino 60’70’80’\n",
            "8 ROCK ARGENTINO 70's\n",
            "9 Rock Argentino 80's\n",
            "10 Rock argentino 90's\n",
            "11 Rock Nacional 80 y 90's\n",
            "12 Mix rock nacional 80'90'\n",
            "13 Rock nacional 60 y 70\n",
            "14 Rock nacional '60 y '70 (y algo de los '80)\n",
            "15 Rock nacional 60 70 80\n",
            "16 Rock Nacional de los 70\n",
            "17 Rock nacional 2010-2019\n",
            "18 Rock Nacional 2000 - 2010\n",
            "19 Rock Nacional 90's ARG\n",
            "20 Rock Nacional 80's ARG\n",
            "21 Rock Nacional 70/80’\n",
            "22  ROCK NACIONAL ARGENTINO \n",
            "23 Best Classical Music\n",
            "24 Guardians of the Galaxy Vol. 1&2 \n",
            "25 Antidomingo\n",
            "26 Top 50 - Argentina\n",
            "27 Rock nac\n",
            "28 Disparo al corazón\n",
            "29 Shazam\n"
          ]
        }
      ]
    },
    {
      "cell_type": "markdown",
      "metadata": {
        "id": "eFld0Y2xtDQ4"
      },
      "source": [
        "Muchas no son mias, lo juro. Elijamos alguna. Vayamos al grano: elijamos el TOP 50 argentina.\n",
        "\n",
        "OBS: Para que aparezcan aca, hay que darles 'me gusta' en la app y hacerlas publicas!"
      ]
    },
    {
      "cell_type": "code",
      "metadata": {
        "colab": {
          "base_uri": "https://localhost:8080/"
        },
        "id": "CrvjU-vgtRA8",
        "outputId": "1fe8906e-3266-422c-ea9d-e7dffb26edd8"
      },
      "source": [
        "#Elijamos la playlist del TOP 50 ARGENTINA\n",
        "nro = 26 #nro de playlist\n",
        "\n",
        "playlist_id = json_data['items'][nro]['id']\n",
        "\n",
        "print('Playlist id:',json_data['items'][nro]['id'])"
      ],
      "execution_count": null,
      "outputs": [
        {
          "output_type": "stream",
          "name": "stdout",
          "text": [
            "Playlist id: 37i9dQZEVXbMMy2roB9myp\n"
          ]
        }
      ]
    },
    {
      "cell_type": "code",
      "metadata": {
        "id": "cLeKSOGxmy78",
        "colab": {
          "base_uri": "https://localhost:8080/"
        },
        "outputId": "8bcba0e8-f726-4b2d-9767-88e7131845f3"
      },
      "source": [
        "#las tracks ID, nombres y artistas de las canciones de la playlist\n",
        "analyzer = spotydatos(CLIENT_ID,CLIENT_SECRET)\n",
        "\n",
        "songs = analyzer.get_songs_on_playlist(playlist_id,only_id=False)\n",
        "songs_names = []\n",
        "songs_artists = []\n",
        "songs_id = []\n",
        "songs_total_tracks = []\n",
        "songs_track_number = []\n",
        "songs_disc_number = []\n",
        "songs_popularity = []\n",
        "songs_date = []\n",
        "\n",
        "songs_names_raw = [] #esto me va a servir para mas tarde\n",
        "songs_artists_raw = [] #esto me va a servir para mas tarde\n",
        "\n",
        "\n",
        "for i in range(np.size(songs)):\n",
        "  songs_names.append(songs[i]['Track name'])\n",
        "  songs_names_raw.append(songs[i]['Track name'])\n",
        "\n",
        "  songs_artists.append(songs[i]['Artist'])\n",
        "  songs_artists_raw.append(songs[i]['Artist'])\n",
        "\n",
        "  songs_id.append(songs[i]['id'])\n",
        "  songs_total_tracks.append(songs[i]['Total tracks'])\n",
        "  songs_track_number.append(songs[i]['Track number'])\n",
        "  songs_disc_number.append(songs[i]['Disc number'])\n",
        "  songs_popularity.append(songs[i]['Popularity'])\n",
        "  songs_date.append(songs[i]['Date'])\n",
        "\n",
        "print(songs_artists)\n",
        "print(songs_names)"
      ],
      "execution_count": null,
      "outputs": [
        {
          "output_type": "stream",
          "name": "stdout",
          "text": [
            "['Kaleb Di Masi', 'Maria Becerra', 'Tiago PZK', 'Mau y Ricky', 'Emilia', 'Farruko', 'Marama', 'Emilia', 'BANDIDO', 'Maria Becerra', 'Kaleb Di Masi', 'J Balvin', 'Bizarrap', 'Tiago PZK', 'Rauw Alejandro', 'Kaleb Di Masi', 'Rusherking', 'TINI', 'MYA', 'Aventura', 'Bizarrap', 'Tainy', 'Rauw Alejandro', 'Ingratax', 'Maluma', 'Mora', 'Trueno', 'Bad Bunny', 'Duki', 'Kaleb Di Masi', 'FMK', 'TINI', 'Bruno LC', 'Rvssian', 'KAROL G', 'MYA', 'Bizarrap', 'J Balvin', 'Perro Primo', 'Nio Garcia', 'FMK', 'Danny Ocean', 'LIT killah', 'Nicki Nicole', 'LIT killah', 'Marc Seguí', 'Sebastian Yatra', 'Rusherking', 'Myke Towers', 'LIT killah']\n",
            "['Turraka - Remix', 'Wow Wow (feat. Becky G)', 'Entre Nosotros', 'Mal Acostumbrao', 'Rápido Lento', 'Pepas', 'Ya No Llora', 'Como Si No Importara', 'No Me Conocen (Remix) [con DUKI, Rei & Tiago PZK]', 'Mi Debilidad', 'Matatan', 'Qué Más Pues?', 'Ptazeta: Bzrp Music Sessions, Vol. 45', 'Loco', 'Cúrame', 'KALEB DI MASI | DJ TAO Turreo Sessions #5', 'Antes de Ti', 'Miénteme', '2:50 Remix', 'Volví', 'YaMeFui', 'Lo Siento BB:/ (with Bad Bunny & Julieta Venegas)', 'Todo De Ti', 'París', 'Sobrio', 'Volando - Remix', 'FEEL ME??', 'Yonaguni', 'Ley de Atracción', 'Turraka (Remix)', 'YO SE QUE TU (feat. Rusherking)', 'Maldita Foto', 'BLUNTED 5 - Remix', 'Nostálgico', 'SEJODIOTO', 'Como + Nadie', 'Nicky Jam: Bzrp Music Sessions, Vol. 41', 'Una Nota', 'TRUCHO', 'AM Remix', 'Prende la Cámara', 'Tú no me conoces', 'Dejame Tranki', 'Toa la Vida', 'Mala Mía', 'Tiroteo - Remix', 'Pareja Del Año', 'Bailando Te Conocí', 'ALMAS GEMELAS', 'En la Oscuridad']\n"
          ]
        }
      ]
    },
    {
      "cell_type": "code",
      "metadata": {
        "colab": {
          "base_uri": "https://localhost:8080/"
        },
        "id": "TlvG8bnWzCjq",
        "outputId": "cfa748b2-fbbe-481e-f6a3-d64ced6d4037"
      },
      "source": [
        "#las features de las canciones\n",
        "features = []\n",
        "for i in range(np.size(songs_id)): #de nuevo, len(list) no funca! No se que anda pasando... \n",
        "  features.append(analyzer.get_song_features(songs_id[i]))\n",
        "\n",
        "  print(analyzer.get_song_features(songs_id[i]))\n",
        " "
      ],
      "execution_count": null,
      "outputs": [
        {
          "output_type": "stream",
          "name": "stdout",
          "text": [
            "{'danceability': 0.799, 'energy': 0.6, 'key': 7.0, 'loudness': -7.474, 'mode': 1.0, 'speechiness': 0.332, 'acousticness': 0.39, 'instrumentalness': 0.0, 'liveness': 0.0474, 'valence': 0.683, 'tempo': 170.22, 'type': 'audio_features', 'id': '2Qv0DF1us4LhzLj0Cx9cSn', 'duration_ms': 210353.0, 'time_signature': 4.0}\n",
            "{'danceability': 0.744, 'energy': 0.679, 'key': 5.0, 'loudness': -3.51, 'mode': 1.0, 'speechiness': 0.0791, 'acousticness': 0.0654, 'instrumentalness': 0.00429, 'liveness': 0.0966, 'valence': 0.866, 'tempo': 176.024, 'type': 'audio_features', 'id': '4Yip3hds5IHyT7AqoNHfmX', 'duration_ms': 199773.0, 'time_signature': 4.0}\n",
            "{'danceability': 0.729, 'energy': 0.513, 'key': 5.0, 'loudness': -6.345, 'mode': 0.0, 'speechiness': 0.0455, 'acousticness': 0.494, 'instrumentalness': 1.1e-06, 'liveness': 0.137, 'valence': 0.789, 'tempo': 170.064, 'type': 'audio_features', 'id': '6w8yBI2vthyN9UnwO4UBWb', 'duration_ms': 192353.0, 'time_signature': 3.0}\n",
            "{'danceability': 0.86, 'energy': 0.516, 'key': 6.0, 'loudness': -5.518, 'mode': 0.0, 'speechiness': 0.145, 'acousticness': 0.0616, 'instrumentalness': 0.0, 'liveness': 0.0791, 'valence': 0.591, 'tempo': 98.005, 'type': 'audio_features', 'id': '1wcE84DVQUF16xudVFzezL', 'duration_ms': 190406.0, 'time_signature': 4.0}\n",
            "{'danceability': 0.793, 'energy': 0.352, 'key': 8.0, 'loudness': -7.675, 'mode': 1.0, 'speechiness': 0.0955, 'acousticness': 0.302, 'instrumentalness': 0.0, 'liveness': 0.175, 'valence': 0.666, 'tempo': 80.014, 'type': 'audio_features', 'id': '4xv2A022v5A8nyewDkYOkQ', 'duration_ms': 213000.0, 'time_signature': 4.0}\n",
            "{'danceability': 0.762, 'energy': 0.766, 'key': 7.0, 'loudness': -3.955, 'mode': 1.0, 'speechiness': 0.0343, 'acousticness': 0.00776, 'instrumentalness': 6.98e-05, 'liveness': 0.128, 'valence': 0.442, 'tempo': 130.001, 'type': 'audio_features', 'id': '2B4GHvToeLTOBB4QLzW3Ni', 'duration_ms': 287120.0, 'time_signature': 4.0}\n",
            "{'danceability': 0.685, 'energy': 0.725, 'key': 1.0, 'loudness': -5.523, 'mode': 0.0, 'speechiness': 0.104, 'acousticness': 0.216, 'instrumentalness': 0.0, 'liveness': 0.0857, 'valence': 0.463, 'tempo': 140.816, 'type': 'audio_features', 'id': '6aMgqUHmyLs5vnyaV98HID', 'duration_ms': 120638.0, 'time_signature': 3.0}\n",
            "{'danceability': 0.843, 'energy': 0.534, 'key': 1.0, 'loudness': -6.658, 'mode': 0.0, 'speechiness': 0.142, 'acousticness': 0.467, 'instrumentalness': 0.0, 'liveness': 0.0984, 'valence': 0.528, 'tempo': 94.984, 'type': 'audio_features', 'id': '1GYJpuLq41vEVKXiHGEY9j', 'duration_ms': 173053.0, 'time_signature': 4.0}\n",
            "{'danceability': 0.769, 'energy': 0.812, 'key': 1.0, 'loudness': -2.088, 'mode': 0.0, 'speechiness': 0.0825, 'acousticness': 0.281, 'instrumentalness': 2.63e-05, 'liveness': 0.0781, 'valence': 0.926, 'tempo': 180.003, 'type': 'audio_features', 'id': '7COGuXyTr12KvdaYXMqheC', 'duration_ms': 280274.0, 'time_signature': 4.0}\n",
            "{'danceability': 0.74, 'energy': 0.649, 'key': 7.0, 'loudness': -4.297, 'mode': 1.0, 'speechiness': 0.0601, 'acousticness': 0.172, 'instrumentalness': 0.000237, 'liveness': 0.111, 'valence': 0.645, 'tempo': 94.02, 'type': 'audio_features', 'id': '4it6vaFbkGRUaQlwWUMg3v', 'duration_ms': 165957.0, 'time_signature': 4.0}\n",
            "{'danceability': 0.88, 'energy': 0.729, 'key': 0.0, 'loudness': -7.741, 'mode': 1.0, 'speechiness': 0.42, 'acousticness': 0.184, 'instrumentalness': 0.00247, 'liveness': 0.102, 'valence': 0.622, 'tempo': 85.996, 'type': 'audio_features', 'id': '7m2iTdEKAtiGULWnTIRhX2', 'duration_ms': 159077.0, 'time_signature': 4.0}\n",
            "{'danceability': 0.903, 'energy': 0.817, 'key': 8.0, 'loudness': -3.972, 'mode': 1.0, 'speechiness': 0.095, 'acousticness': 0.0272, 'instrumentalness': 0.000311, 'liveness': 0.242, 'valence': 0.732, 'tempo': 102.014, 'type': 'audio_features', 'id': '6D2TCm4nf5nxAcdGJ7w3QP', 'duration_ms': 217360.0, 'time_signature': 4.0}\n",
            "{'danceability': 0.829, 'energy': 0.81, 'key': 2.0, 'loudness': -4.801, 'mode': 1.0, 'speechiness': 0.144, 'acousticness': 0.0424, 'instrumentalness': 0.0, 'liveness': 0.0748, 'valence': 0.707, 'tempo': 114.044, 'type': 'audio_features', 'id': '4axxCbc4tWlpqHP5UbJMc3', 'duration_ms': 161485.0, 'time_signature': 4.0}\n",
            "{'danceability': 0.505, 'energy': 0.636, 'key': 7.0, 'loudness': -5.214, 'mode': 1.0, 'speechiness': 0.037, 'acousticness': 0.501, 'instrumentalness': 0.0, 'liveness': 0.152, 'valence': 0.283, 'tempo': 169.87, 'type': 'audio_features', 'id': '6WeJGp7MB7sEEf9InLEvh1', 'duration_ms': 239207.0, 'time_signature': 4.0}\n",
            "{'danceability': 0.765, 'energy': 0.625, 'key': 9.0, 'loudness': -3.599, 'mode': 0.0, 'speechiness': 0.0548, 'acousticness': 0.584, 'instrumentalness': 0.00111, 'liveness': 0.112, 'valence': 0.262, 'tempo': 102.101, 'type': 'audio_features', 'id': '3PwRuzdphgedcWVUOVYJ7I', 'duration_ms': 164706.0, 'time_signature': 4.0}\n",
            "{'danceability': 0.787, 'energy': 0.853, 'key': 11.0, 'loudness': -4.629, 'mode': 0.0, 'speechiness': 0.354, 'acousticness': 0.418, 'instrumentalness': 0.000173, 'liveness': 0.24, 'valence': 0.669, 'tempo': 176.131, 'type': 'audio_features', 'id': '3xnzkgl56WCFFzLxQ8c07L', 'duration_ms': 147658.0, 'time_signature': 4.0}\n",
            "{'danceability': 0.845, 'energy': 0.612, 'key': 11.0, 'loudness': -3.805, 'mode': 0.0, 'speechiness': 0.0426, 'acousticness': 0.125, 'instrumentalness': 0.0, 'liveness': 0.0671, 'valence': 0.771, 'tempo': 127.958, 'type': 'audio_features', 'id': '23R68uWGdp07SwQdK8mWzI', 'duration_ms': 207187.0, 'time_signature': 4.0}\n",
            "{'danceability': 0.85, 'energy': 0.541, 'key': 2.0, 'loudness': -4.522, 'mode': 1.0, 'speechiness': 0.0674, 'acousticness': 0.161, 'instrumentalness': 5.01e-06, 'liveness': 0.286, 'valence': 0.916, 'tempo': 92.003, 'type': 'audio_features', 'id': '0cOa970mzTWAxKtltpkpLc', 'duration_ms': 165275.0, 'time_signature': 4.0}\n",
            "{'danceability': 0.818, 'energy': 0.812, 'key': 9.0, 'loudness': -4.425, 'mode': 1.0, 'speechiness': 0.0475, 'acousticness': 0.112, 'instrumentalness': 0.0, 'liveness': 0.234, 'valence': 0.844, 'tempo': 139.966, 'type': 'audio_features', 'id': '74znaWw1hmQBusGPSOuTFy', 'duration_ms': 231708.0, 'time_signature': 4.0}\n",
            "{'danceability': 0.725, 'energy': 0.86, 'key': 1.0, 'loudness': -3.726, 'mode': 1.0, 'speechiness': 0.182, 'acousticness': 0.422, 'instrumentalness': 0.000284, 'liveness': 0.0674, 'valence': 0.791, 'tempo': 175.896, 'type': 'audio_features', 'id': '2vmfvSoZBFAt9hhRoEByLi', 'duration_ms': 230125.0, 'time_signature': 4.0}\n",
            "{'danceability': 0.785, 'energy': 0.644, 'key': 4.0, 'loudness': -4.76, 'mode': 0.0, 'speechiness': 0.0744, 'acousticness': 0.658, 'instrumentalness': 1.83e-05, 'liveness': 0.275, 'valence': 0.175, 'tempo': 100.959, 'type': 'audio_features', 'id': '42ahuAFlYGjIGBpVdHcLij', 'duration_ms': 182595.0, 'time_signature': 4.0}\n",
            "{'danceability': 0.639, 'energy': 0.703, 'key': 4.0, 'loudness': -6.33, 'mode': 0.0, 'speechiness': 0.0794, 'acousticness': 0.0889, 'instrumentalness': 1.78e-06, 'liveness': 0.0865, 'valence': 0.138, 'tempo': 169.888, 'type': 'audio_features', 'id': '4gzsuuZypVbxs0Af1LSZyB', 'duration_ms': 207301.0, 'time_signature': 4.0}\n",
            "{'danceability': 0.78, 'energy': 0.719, 'key': 3.0, 'loudness': -3.613, 'mode': 0.0, 'speechiness': 0.0506, 'acousticness': 0.302, 'instrumentalness': 0.000196, 'liveness': 0.0931, 'valence': 0.336, 'tempo': 127.962, 'type': 'audio_features', 'id': '5RwV8BvLfX5injfqYodke9', 'duration_ms': 199604.0, 'time_signature': 4.0}\n",
            "{'danceability': 0.57, 'energy': 0.455, 'key': 1.0, 'loudness': -5.748, 'mode': 0.0, 'speechiness': 0.0996, 'acousticness': 0.441, 'instrumentalness': 0.000746, 'liveness': 0.0654, 'valence': 0.399, 'tempo': 167.933, 'type': 'audio_features', 'id': '4bF2y8rR7GUjrd5LNEvej3', 'duration_ms': 151429.0, 'time_signature': 4.0}\n",
            "{'danceability': 0.762, 'energy': 0.77, 'key': 5.0, 'loudness': -2.758, 'mode': 1.0, 'speechiness': 0.223, 'acousticness': 0.138, 'instrumentalness': 0.0, 'liveness': 0.15, 'valence': 0.631, 'tempo': 177.998, 'type': 'audio_features', 'id': '4HzqWEdAbzcVFDv0pvxV4w', 'duration_ms': 201181.0, 'time_signature': 4.0}\n",
            "{'danceability': 0.659, 'energy': 0.688, 'key': 6.0, 'loudness': -4.649, 'mode': 1.0, 'speechiness': 0.0673, 'acousticness': 0.207, 'instrumentalness': 0.0, 'liveness': 0.113, 'valence': 0.632, 'tempo': 153.979, 'type': 'audio_features', 'id': '0G2zPzWqVjR68iNPmx2TBe', 'duration_ms': 273474.0, 'time_signature': 4.0}\n",
            "{'danceability': 0.738, 'energy': 0.579, 'key': 10.0, 'loudness': -5.88, 'mode': 0.0, 'speechiness': 0.0447, 'acousticness': 0.399, 'instrumentalness': 0.0, 'liveness': 0.266, 'valence': 0.531, 'tempo': 123.082, 'type': 'audio_features', 'id': '4kELKaXaNP4EQR8Q8xNIID', 'duration_ms': 187332.0, 'time_signature': 4.0}\n",
            "{'danceability': 0.644, 'energy': 0.648, 'key': 1.0, 'loudness': -4.601, 'mode': 1.0, 'speechiness': 0.118, 'acousticness': 0.276, 'instrumentalness': 0.0, 'liveness': 0.135, 'valence': 0.44, 'tempo': 179.951, 'type': 'audio_features', 'id': '2JPLbjOn0wPCngEot2STUS', 'duration_ms': 206710.0, 'time_signature': 4.0}\n",
            "{'danceability': 0.776, 'energy': 0.683, 'key': 9.0, 'loudness': -4.078, 'mode': 1.0, 'speechiness': 0.0703, 'acousticness': 0.196, 'instrumentalness': 6.41e-05, 'liveness': 0.322, 'valence': 0.726, 'tempo': 92.014, 'type': 'audio_features', 'id': '52PVGjg5sUhfs9PHiSl02c', 'duration_ms': 180248.0, 'time_signature': 4.0}\n",
            "{'danceability': 0.891, 'energy': 0.626, 'key': 4.0, 'loudness': -6.35, 'mode': 1.0, 'speechiness': 0.159, 'acousticness': 0.268, 'instrumentalness': 0.00129, 'liveness': 0.196, 'valence': 0.6, 'tempo': 89.969, 'type': 'audio_features', 'id': '4aXicRG47bBEcKXlDaSRwW', 'duration_ms': 122694.0, 'time_signature': 4.0}\n",
            "{'danceability': 0.803, 'energy': 0.628, 'key': 9.0, 'loudness': -4.358, 'mode': 0.0, 'speechiness': 0.0536, 'acousticness': 0.147, 'instrumentalness': 1.92e-06, 'liveness': 0.0461, 'valence': 0.661, 'tempo': 92.021, 'type': 'audio_features', 'id': '4M4DTyLupKvbJKlE4I4EYq', 'duration_ms': 193043.0, 'time_signature': 4.0}\n",
            "{'danceability': 0.743, 'energy': 0.674, 'key': 2.0, 'loudness': -4.201, 'mode': 1.0, 'speechiness': 0.129, 'acousticness': 0.15, 'instrumentalness': 0.0, 'liveness': 0.0986, 'valence': 0.932, 'tempo': 174.024, 'type': 'audio_features', 'id': '4WkEH0PgystZUaN6QU6Z0B', 'duration_ms': 190345.0, 'time_signature': 4.0}\n",
            "{'danceability': 0.756, 'energy': 0.268, 'key': 1.0, 'loudness': -12.364, 'mode': 1.0, 'speechiness': 0.406, 'acousticness': 0.206, 'instrumentalness': 7.98e-05, 'liveness': 0.051, 'valence': 0.477, 'tempo': 172.163, 'type': 'audio_features', 'id': '27t4JURZ1Tv7a3zMfPneAw', 'duration_ms': 141076.0, 'time_signature': 4.0}\n",
            "{'danceability': 0.734, 'energy': 0.846, 'key': 9.0, 'loudness': -3.425, 'mode': 0.0, 'speechiness': 0.0489, 'acousticness': 0.166, 'instrumentalness': 1.74e-06, 'liveness': 0.235, 'valence': 0.604, 'tempo': 98.026, 'type': 'audio_features', 'id': '2BEcap3xJtmiPaHKyfQi4e', 'duration_ms': 209884.0, 'time_signature': 4.0}\n",
            "{'danceability': 0.822, 'energy': 0.736, 'key': 1.0, 'loudness': -3.969, 'mode': 1.0, 'speechiness': 0.15, 'acousticness': 0.157, 'instrumentalness': 0.000781, 'liveness': 0.0748, 'valence': 0.679, 'tempo': 175.93, 'type': 'audio_features', 'id': '704LUEih663hiE3CnyUrFW', 'duration_ms': 181107.0, 'time_signature': 4.0}\n",
            "{'danceability': 0.805, 'energy': 0.678, 'key': 7.0, 'loudness': -4.038, 'mode': 1.0, 'speechiness': 0.0536, 'acousticness': 0.108, 'instrumentalness': 1.02e-06, 'liveness': 0.106, 'valence': 0.689, 'tempo': 91.008, 'type': 'audio_features', 'id': '3TSB6v3t9nmizD5PzyiiFv', 'duration_ms': 183956.0, 'time_signature': 4.0}\n",
            "{'danceability': 0.627, 'energy': 0.849, 'key': 1.0, 'loudness': -3.167, 'mode': 0.0, 'speechiness': 0.153, 'acousticness': 0.0913, 'instrumentalness': 0.0, 'liveness': 0.145, 'valence': 0.818, 'tempo': 89.907, 'type': 'audio_features', 'id': '03LfOYi0icz4souspZVVhq', 'duration_ms': 158087.0, 'time_signature': 4.0}\n",
            "{'danceability': 0.662, 'energy': 0.788, 'key': 3.0, 'loudness': -4.55, 'mode': 0.0, 'speechiness': 0.205, 'acousticness': 0.0191, 'instrumentalness': 0.0, 'liveness': 0.0559, 'valence': 0.711, 'tempo': 179.876, 'type': 'audio_features', 'id': '7iqOIHHEmu6Vhw25GgQ2eA', 'duration_ms': 170760.0, 'time_signature': 4.0}\n",
            "{'danceability': 0.779, 'energy': 0.562, 'key': 0.0, 'loudness': -5.678, 'mode': 1.0, 'speechiness': 0.26, 'acousticness': 0.45, 'instrumentalness': 1.29e-05, 'liveness': 0.0974, 'valence': 0.57, 'tempo': 89.853, 'type': 'audio_features', 'id': '4AKK4j6sYhOO1r6My2qqWO', 'duration_ms': 144000.0, 'time_signature': 4.0}\n",
            "{'danceability': 0.743, 'energy': 0.655, 'key': 6.0, 'loudness': -5.015, 'mode': 0.0, 'speechiness': 0.159, 'acousticness': 0.114, 'instrumentalness': 0.0, 'liveness': 0.0764, 'valence': 0.785, 'tempo': 172.031, 'type': 'audio_features', 'id': '05bfbizlM5AX6Mf1RRyMho', 'duration_ms': 261335.0, 'time_signature': 4.0}\n",
            "{'danceability': 0.867, 'energy': 0.682, 'key': 9.0, 'loudness': -3.994, 'mode': 1.0, 'speechiness': 0.0951, 'acousticness': 0.0616, 'instrumentalness': 0.000135, 'liveness': 0.0816, 'valence': 0.798, 'tempo': 91.996, 'type': 'audio_features', 'id': '2UcWAHN6TRQtkZovAuwySo', 'duration_ms': 148716.0, 'time_signature': 4.0}\n",
            "{'danceability': 0.785, 'energy': 0.654, 'key': 9.0, 'loudness': -6.603, 'mode': 1.0, 'speechiness': 0.0557, 'acousticness': 0.303, 'instrumentalness': 0.0, 'liveness': 0.103, 'valence': 0.713, 'tempo': 94.006, 'type': 'audio_features', 'id': '2ENHU0Zzp2BwZLr3Cyesc1', 'duration_ms': 149787.0, 'time_signature': 4.0}\n",
            "{'danceability': 0.781, 'energy': 0.495, 'key': 11.0, 'loudness': -3.611, 'mode': 0.0, 'speechiness': 0.122, 'acousticness': 0.363, 'instrumentalness': 0.0, 'liveness': 0.127, 'valence': 0.658, 'tempo': 142.012, 'type': 'audio_features', 'id': '3STO1ZJi4EBbYCWY6qC8rv', 'duration_ms': 222429.0, 'time_signature': 4.0}\n",
            "{'danceability': 0.615, 'energy': 0.564, 'key': 1.0, 'loudness': -6.095, 'mode': 0.0, 'speechiness': 0.258, 'acousticness': 0.657, 'instrumentalness': 2.25e-06, 'liveness': 0.101, 'valence': 0.459, 'tempo': 171.877, 'type': 'audio_features', 'id': '6C1LZVwMRRsUdGOe7t7PSD', 'duration_ms': 218969.0, 'time_signature': 4.0}\n",
            "{'danceability': 0.68, 'energy': 0.682, 'key': 7.0, 'loudness': -3.873, 'mode': 0.0, 'speechiness': 0.0781, 'acousticness': 0.202, 'instrumentalness': 0.0, 'liveness': 0.118, 'valence': 0.53, 'tempo': 176.189, 'type': 'audio_features', 'id': '7FfQ2E4LqvwKKOyKXyC2L2', 'duration_ms': 190929.0, 'time_signature': 4.0}\n",
            "{'danceability': 0.75, 'energy': 0.522, 'key': 9.0, 'loudness': -7.018, 'mode': 1.0, 'speechiness': 0.0293, 'acousticness': 0.282, 'instrumentalness': 0.0, 'liveness': 0.0743, 'valence': 0.601, 'tempo': 110.427, 'type': 'audio_features', 'id': '4OwhwvKESFtuu06dTgct7i', 'duration_ms': 321556.0, 'time_signature': 4.0}\n",
            "{'danceability': 0.715, 'energy': 0.622, 'key': 4.0, 'loudness': -5.102, 'mode': 0.0, 'speechiness': 0.046, 'acousticness': 0.163, 'instrumentalness': 0.0, 'liveness': 0.0948, 'valence': 0.808, 'tempo': 80.015, 'type': 'audio_features', 'id': '2rCbl9naJYhaxjLsfx88uM', 'duration_ms': 195053.0, 'time_signature': 4.0}\n",
            "{'danceability': 0.848, 'energy': 0.622, 'key': 7.0, 'loudness': -3.652, 'mode': 1.0, 'speechiness': 0.0625, 'acousticness': 0.0392, 'instrumentalness': 0.0, 'liveness': 0.0879, 'valence': 0.558, 'tempo': 99.972, 'type': 'audio_features', 'id': '0vvuIsoJ101Hme1VIXBIEi', 'duration_ms': 194400.0, 'time_signature': 4.0}\n",
            "{'danceability': 0.793, 'energy': 0.745, 'key': 7.0, 'loudness': -4.579, 'mode': 1.0, 'speechiness': 0.0571, 'acousticness': 0.182, 'instrumentalness': 0.000189, 'liveness': 0.293, 'valence': 0.716, 'tempo': 94.979, 'type': 'audio_features', 'id': '2KcNrONbZ0hvBPjvrDO2tx', 'duration_ms': 235411.0, 'time_signature': 4.0}\n",
            "{'danceability': 0.812, 'energy': 0.752, 'key': 9.0, 'loudness': -3.864, 'mode': 0.0, 'speechiness': 0.0542, 'acousticness': 0.111, 'instrumentalness': 2.53e-06, 'liveness': 0.0722, 'valence': 0.398, 'tempo': 99.96, 'type': 'audio_features', 'id': '4OrAAeefsDOdUSfE87C6WR', 'duration_ms': 173143.0, 'time_signature': 4.0}\n"
          ]
        }
      ]
    },
    {
      "cell_type": "markdown",
      "metadata": {
        "id": "ff_XyC1DpOq4"
      },
      "source": [
        "# Web Scrapping LETRAS"
      ]
    },
    {
      "cell_type": "markdown",
      "metadata": {
        "id": "rx5U0GbsykyX"
      },
      "source": [
        "\n",
        "---\n",
        "Ahora usemos lo de web Scrapping para sacar la letra de cada tema"
      ]
    },
    {
      "cell_type": "code",
      "metadata": {
        "colab": {
          "base_uri": "https://localhost:8080/"
        },
        "id": "_PDczrnC0eXY",
        "outputId": "7ee3695a-c35b-4585-d9ee-6ab551bdb7c6"
      },
      "source": [
        "url_base = 'https://www.musica.com/letras.asp?t2='\n",
        "urls = []\n",
        "songs_names_clean = []\n",
        "\n",
        "for song in range(np.size(songs_names)):\n",
        "  songs_names[song] = songs_names[song].replace(' ','+').replace('á','a').replace('é','e').replace('í','i').replace('ó','o').replace('ú','u').replace('Á','a').replace('É','e').replace('Í','i').replace('Ó','o').replace('Ú','u').lower()\n",
        "  songs_artists[song] = songs_artists[song].replace(' ','+').replace('á','a').replace('é','e').replace('í','i').replace('ó','o').replace('ú','u').replace('Á','a').replace('É','e').replace('Í','i').replace('Ó','o').replace('Ú','u').lower()\n",
        "  split_1 = songs_names[song].split(':',1) #sacamos los (feat), remix, :, ...\n",
        "  split_2 = split_1[0].split('+(',1)\n",
        "  split_3 = split_2[0].split('(',1)\n",
        "  split_4 = split_3[0].split('remix',1)\n",
        "  split_5 = split_4[0].split('+-',1)\n",
        "  songs_names_clean.append(split_5[0]) \n",
        "  #print(song, split_4[0])\n",
        "  \n",
        "  urls.append([url_base + songs_names_clean[song] +'+'+ songs_artists[song]])\n",
        "\n",
        "print(urls)\n"
      ],
      "execution_count": null,
      "outputs": [
        {
          "output_type": "stream",
          "name": "stdout",
          "text": [
            "[['https://www.musica.com/letras.asp?t2=turraka+kaleb+di+masi'], ['https://www.musica.com/letras.asp?t2=wow+wow+maria+becerra'], ['https://www.musica.com/letras.asp?t2=entre+nosotros+tiago+pzk'], ['https://www.musica.com/letras.asp?t2=mal+acostumbrao+mau+y+ricky'], ['https://www.musica.com/letras.asp?t2=rapido+lento+emilia'], ['https://www.musica.com/letras.asp?t2=pepas+farruko'], ['https://www.musica.com/letras.asp?t2=ya+no+llora+marama'], ['https://www.musica.com/letras.asp?t2=como+si+no+importara+emilia'], ['https://www.musica.com/letras.asp?t2=no+me+conocen+bandido'], ['https://www.musica.com/letras.asp?t2=mi+debilidad+maria+becerra'], ['https://www.musica.com/letras.asp?t2=matatan+kaleb+di+masi'], ['https://www.musica.com/letras.asp?t2=que+mas+pues?+j+balvin'], ['https://www.musica.com/letras.asp?t2=ptazeta+bizarrap'], ['https://www.musica.com/letras.asp?t2=loco+tiago+pzk'], ['https://www.musica.com/letras.asp?t2=curame+rauw+alejandro'], ['https://www.musica.com/letras.asp?t2=kaleb+di+masi+|+dj+tao+turreo+sessions+#5+kaleb+di+masi'], ['https://www.musica.com/letras.asp?t2=antes+de+ti+rusherking'], ['https://www.musica.com/letras.asp?t2=mienteme+tini'], ['https://www.musica.com/letras.asp?t2=2+mya'], ['https://www.musica.com/letras.asp?t2=volvi+aventura'], ['https://www.musica.com/letras.asp?t2=yamefui+bizarrap'], ['https://www.musica.com/letras.asp?t2=lo+siento+bb+tainy'], ['https://www.musica.com/letras.asp?t2=todo+de+ti+rauw+alejandro'], ['https://www.musica.com/letras.asp?t2=parís+ingratax'], ['https://www.musica.com/letras.asp?t2=sobrio+maluma'], ['https://www.musica.com/letras.asp?t2=volando+mora'], ['https://www.musica.com/letras.asp?t2=feel+me??+trueno'], ['https://www.musica.com/letras.asp?t2=yonaguni+bad+bunny'], ['https://www.musica.com/letras.asp?t2=ley+de+atraccion+duki'], ['https://www.musica.com/letras.asp?t2=turraka+kaleb+di+masi'], ['https://www.musica.com/letras.asp?t2=yo+se+que+tu+fmk'], ['https://www.musica.com/letras.asp?t2=maldita+foto+tini'], ['https://www.musica.com/letras.asp?t2=blunted+5+bruno+lc'], ['https://www.musica.com/letras.asp?t2=nostalgico+rvssian'], ['https://www.musica.com/letras.asp?t2=sejodioto+karol+g'], ['https://www.musica.com/letras.asp?t2=como+++nadie+mya'], ['https://www.musica.com/letras.asp?t2=nicky+jam+bizarrap'], ['https://www.musica.com/letras.asp?t2=una+nota+j+balvin'], ['https://www.musica.com/letras.asp?t2=trucho+perro+primo'], ['https://www.musica.com/letras.asp?t2=am++nio+garcia'], ['https://www.musica.com/letras.asp?t2=prende+la+camara+fmk'], ['https://www.musica.com/letras.asp?t2=tu+no+me+conoces+danny+ocean'], ['https://www.musica.com/letras.asp?t2=dejame+tranki+lit+killah'], ['https://www.musica.com/letras.asp?t2=toa+la+vida+nicki+nicole'], ['https://www.musica.com/letras.asp?t2=mala+mia+lit+killah'], ['https://www.musica.com/letras.asp?t2=tiroteo+marc+segui'], ['https://www.musica.com/letras.asp?t2=pareja+del+año+sebastian+yatra'], ['https://www.musica.com/letras.asp?t2=bailando+te+conoci+rusherking'], ['https://www.musica.com/letras.asp?t2=almas+gemelas+myke+towers'], ['https://www.musica.com/letras.asp?t2=en+la+oscuridad+lit+killah']]\n"
          ]
        }
      ]
    },
    {
      "cell_type": "code",
      "metadata": {
        "colab": {
          "base_uri": "https://localhost:8080/"
        },
        "id": "2oB-Dloxcvd9",
        "outputId": "95f1ab13-39f9-4e66-9d75-11e0e784c429"
      },
      "source": [
        "# Hacemos un request iterativo a la página de musica.com y sacamos como output los urls a las letras\n",
        "url_lyrics = []\n",
        "\n",
        "for url in np.arange(np.size(urls)):\n",
        "  try:\n",
        "    search = requests.get(urls[url][0])\n",
        "    search_parseada = bs(search.content, 'html.parser') # Parseamos el contenido del request como un html\n",
        "    # Soup\n",
        "    soup = bs(response.content)\n",
        "    tag_song = search_parseada.find(name = 'table', attrs = {'class' : 'rst'}) #tag madre\n",
        "    tag_song = tag_song.find(name = 'a') # tag en donde esta el link a la letra\n",
        "    url_lyrics.append(tag_song['href']) # el link en cuestion\n",
        "    print(url)\n",
        "  except:\n",
        "    url_lyrics.append(np.NaN) #le asigno un NaN\n",
        "    print(url, 'Lyrics not found')\n"
      ],
      "execution_count": null,
      "outputs": [
        {
          "output_type": "stream",
          "name": "stdout",
          "text": [
            "0 Lyrics not found\n",
            "1\n",
            "2\n",
            "3\n",
            "4\n",
            "5\n",
            "6 Lyrics not found\n",
            "7\n",
            "8 Lyrics not found\n",
            "9\n",
            "10 Lyrics not found\n",
            "11\n",
            "12\n",
            "13\n",
            "14\n",
            "15 Lyrics not found\n",
            "16\n",
            "17\n",
            "18\n",
            "19\n",
            "20\n",
            "21\n",
            "22\n",
            "23 Lyrics not found\n",
            "24\n",
            "25\n",
            "26\n",
            "27\n",
            "28\n",
            "29 Lyrics not found\n",
            "30\n",
            "31\n",
            "32 Lyrics not found\n",
            "33\n",
            "34\n",
            "35\n",
            "36\n",
            "37\n",
            "38 Lyrics not found\n",
            "39\n",
            "40 Lyrics not found\n",
            "41\n",
            "42\n",
            "43\n",
            "44\n",
            "45\n",
            "46\n",
            "47\n",
            "48\n",
            "49\n"
          ]
        }
      ]
    },
    {
      "cell_type": "markdown",
      "metadata": {
        "id": "1Rr9rKzN9ofM"
      },
      "source": [
        "Se ve a priori que no encuentra todas las url de las letras... esto es porque no le estamos dando el nombre del artista/cancion que le gusta a musica.com\n",
        "\n",
        "Ahora iteramos sobre las url en donde estan las letras.. Nuevamente, proponemos un try/except porque puede pasar que el url encontrado en el loop anterior no de el link correcto. "
      ]
    },
    {
      "cell_type": "code",
      "metadata": {
        "colab": {
          "base_uri": "https://localhost:8080/"
        },
        "id": "aWgGOs-DxsRi",
        "outputId": "c52dd34c-d468-4147-86b5-461d1fd81886"
      },
      "source": [
        "#iteramos sobre toda las urls de las letras\n",
        "lyrics = []\n",
        "for url in np.arange(np.size(url_lyrics)):\n",
        "  try:\n",
        "    search_song = requests.get(url_lyrics[url]) #pedimos el request\n",
        "    search_song_parseada = bs(search_song.content, 'html.parser')\n",
        "\n",
        "    body = search_song_parseada.find(name = 'div', attrs = {'id' : 'letra'}) #aca esta la letra, entre otras cosas\n",
        "\n",
        "    letra_raw = body.find_all('p') #buscamos los paragraphs\n",
        "    letra_raw_string = str(letra_raw) #to string\n",
        "    letra_raw_string = str(letra_raw).replace('<br/>',' ').replace('</p>','').replace('<p>','') #mas bonita\n",
        "    lyrics.append(letra_raw_string)\n",
        "    print(url)\n",
        "  except:\n",
        "    lyrics.append(np.NaN)\n",
        "    print(url,'Lyrics not found')\n"
      ],
      "execution_count": null,
      "outputs": [
        {
          "output_type": "stream",
          "name": "stdout",
          "text": [
            "0 Lyrics not found\n",
            "1\n",
            "2\n",
            "3\n",
            "4\n",
            "5\n",
            "6 Lyrics not found\n",
            "7\n",
            "8 Lyrics not found\n",
            "9\n",
            "10 Lyrics not found\n",
            "11\n",
            "12\n",
            "13\n",
            "14\n",
            "15 Lyrics not found\n",
            "16\n",
            "17\n",
            "18 Lyrics not found\n",
            "19\n",
            "20\n",
            "21\n",
            "22\n",
            "23 Lyrics not found\n",
            "24\n",
            "25\n",
            "26\n",
            "27\n",
            "28\n",
            "29 Lyrics not found\n",
            "30 Lyrics not found\n",
            "31\n",
            "32 Lyrics not found\n",
            "33\n",
            "34\n",
            "35\n",
            "36\n",
            "37\n",
            "38 Lyrics not found\n",
            "39 Lyrics not found\n",
            "40 Lyrics not found\n",
            "41\n",
            "42\n",
            "43\n",
            "44\n",
            "45\n",
            "46\n",
            "47\n",
            "48\n",
            "49\n"
          ]
        }
      ]
    },
    {
      "cell_type": "markdown",
      "metadata": {
        "id": "H9qXIaNnPSbF"
      },
      "source": [
        "---\n",
        "\n",
        "Metamos las lyrics en un dataframe. Despues podemos hacer un merge con otro dataframe de las features de cada cancion."
      ]
    },
    {
      "cell_type": "code",
      "metadata": {
        "colab": {
          "base_uri": "https://localhost:8080/",
          "height": 206
        },
        "id": "bojAs7buK5Y4",
        "outputId": "374dac1f-3ba0-4036-8a5e-6c7c5f6cfe1b"
      },
      "source": [
        "#Dataframe\n",
        "\n",
        "df_lyrics_top = pd.DataFrame(list(zip(songs_names_raw,songs_artists_raw,lyrics)),index=songs_id)\n",
        "df_lyrics_top['TOP'] = 1 #esta en el top\n",
        "\n",
        "df_lyrics_top.head()"
      ],
      "execution_count": null,
      "outputs": [
        {
          "output_type": "execute_result",
          "data": {
            "text/html": [
              "<div>\n",
              "<style scoped>\n",
              "    .dataframe tbody tr th:only-of-type {\n",
              "        vertical-align: middle;\n",
              "    }\n",
              "\n",
              "    .dataframe tbody tr th {\n",
              "        vertical-align: top;\n",
              "    }\n",
              "\n",
              "    .dataframe thead th {\n",
              "        text-align: right;\n",
              "    }\n",
              "</style>\n",
              "<table border=\"1\" class=\"dataframe\">\n",
              "  <thead>\n",
              "    <tr style=\"text-align: right;\">\n",
              "      <th></th>\n",
              "      <th>0</th>\n",
              "      <th>1</th>\n",
              "      <th>2</th>\n",
              "      <th>TOP</th>\n",
              "    </tr>\n",
              "  </thead>\n",
              "  <tbody>\n",
              "    <tr>\n",
              "      <th>2Qv0DF1us4LhzLj0Cx9cSn</th>\n",
              "      <td>Turraka - Remix</td>\n",
              "      <td>Kaleb Di Masi</td>\n",
              "      <td>NaN</td>\n",
              "      <td>1</td>\n",
              "    </tr>\n",
              "    <tr>\n",
              "      <th>4Yip3hds5IHyT7AqoNHfmX</th>\n",
              "      <td>Wow Wow (feat. Becky G)</td>\n",
              "      <td>Maria Becerra</td>\n",
              "      <td>[(This is the Big One), Una vez me desperté (M...</td>\n",
              "      <td>1</td>\n",
              "    </tr>\n",
              "    <tr>\n",
              "      <th>6w8yBI2vthyN9UnwO4UBWb</th>\n",
              "      <td>Entre Nosotros</td>\n",
              "      <td>Tiago PZK</td>\n",
              "      <td>[Hace un tiempo no duermo con vos Pienso cómo ...</td>\n",
              "      <td>1</td>\n",
              "    </tr>\n",
              "    <tr>\n",
              "      <th>1wcE84DVQUF16xudVFzezL</th>\n",
              "      <td>Mal Acostumbrao</td>\n",
              "      <td>Mau y Ricky</td>\n",
              "      <td>[Sí Dime que sientes Qué te imaginas Qué te pa...</td>\n",
              "      <td>1</td>\n",
              "    </tr>\n",
              "    <tr>\n",
              "      <th>4xv2A022v5A8nyewDkYOkQ</th>\n",
              "      <td>Rápido Lento</td>\n",
              "      <td>Emilia</td>\n",
              "      <td>[Vos y yo (Mmm) Tenemos algo único, mmm (Yeah-...</td>\n",
              "      <td>1</td>\n",
              "    </tr>\n",
              "  </tbody>\n",
              "</table>\n",
              "</div>"
            ],
            "text/plain": [
              "                                              0  ... TOP\n",
              "2Qv0DF1us4LhzLj0Cx9cSn          Turraka - Remix  ...   1\n",
              "4Yip3hds5IHyT7AqoNHfmX  Wow Wow (feat. Becky G)  ...   1\n",
              "6w8yBI2vthyN9UnwO4UBWb           Entre Nosotros  ...   1\n",
              "1wcE84DVQUF16xudVFzezL          Mal Acostumbrao  ...   1\n",
              "4xv2A022v5A8nyewDkYOkQ             Rápido Lento  ...   1\n",
              "\n",
              "[5 rows x 4 columns]"
            ]
          },
          "metadata": {},
          "execution_count": 14
        }
      ]
    },
    {
      "cell_type": "code",
      "metadata": {
        "colab": {
          "base_uri": "https://localhost:8080/",
          "height": 348
        },
        "id": "vugMfChCUunM",
        "outputId": "6517b6db-73f4-435a-b9f8-7fc8b46abf11"
      },
      "source": [
        "#YAPA: dataframe de features, canciones y artistas\n",
        "df_features_top = pd.DataFrame(features, index=songs_id)\n",
        "df_features_top.drop(df_features_top['id'])\n",
        "df_features_top['Artist'] = songs_artists_raw\n",
        "df_features_top['Song'] = songs_names_raw\n",
        "df_features_top['Disc number'] = songs_disc_number\n",
        "df_features_top['Total tracks'] = songs_total_tracks\n",
        "df_features_top['Track number'] = songs_track_number\n",
        "df_features_top['Date'] = songs_date\n",
        "df_features_top['Popularity'] = songs_popularity\n",
        "df_features_top['TOP'] = 1\n",
        "df_features_top.head()"
      ],
      "execution_count": null,
      "outputs": [
        {
          "output_type": "execute_result",
          "data": {
            "text/html": [
              "<div>\n",
              "<style scoped>\n",
              "    .dataframe tbody tr th:only-of-type {\n",
              "        vertical-align: middle;\n",
              "    }\n",
              "\n",
              "    .dataframe tbody tr th {\n",
              "        vertical-align: top;\n",
              "    }\n",
              "\n",
              "    .dataframe thead th {\n",
              "        text-align: right;\n",
              "    }\n",
              "</style>\n",
              "<table border=\"1\" class=\"dataframe\">\n",
              "  <thead>\n",
              "    <tr style=\"text-align: right;\">\n",
              "      <th></th>\n",
              "      <th>danceability</th>\n",
              "      <th>energy</th>\n",
              "      <th>key</th>\n",
              "      <th>loudness</th>\n",
              "      <th>mode</th>\n",
              "      <th>speechiness</th>\n",
              "      <th>acousticness</th>\n",
              "      <th>instrumentalness</th>\n",
              "      <th>liveness</th>\n",
              "      <th>valence</th>\n",
              "      <th>tempo</th>\n",
              "      <th>type</th>\n",
              "      <th>id</th>\n",
              "      <th>duration_ms</th>\n",
              "      <th>time_signature</th>\n",
              "      <th>Artist</th>\n",
              "      <th>Song</th>\n",
              "      <th>Disc number</th>\n",
              "      <th>Total tracks</th>\n",
              "      <th>Track number</th>\n",
              "      <th>Date</th>\n",
              "      <th>Popularity</th>\n",
              "      <th>TOP</th>\n",
              "    </tr>\n",
              "  </thead>\n",
              "  <tbody>\n",
              "    <tr>\n",
              "      <th>2Qv0DF1us4LhzLj0Cx9cSn</th>\n",
              "      <td>0.799</td>\n",
              "      <td>0.600</td>\n",
              "      <td>7.0</td>\n",
              "      <td>-7.474</td>\n",
              "      <td>1.0</td>\n",
              "      <td>0.3320</td>\n",
              "      <td>0.3900</td>\n",
              "      <td>0.000000</td>\n",
              "      <td>0.0474</td>\n",
              "      <td>0.683</td>\n",
              "      <td>170.220</td>\n",
              "      <td>audio_features</td>\n",
              "      <td>2Qv0DF1us4LhzLj0Cx9cSn</td>\n",
              "      <td>210353.0</td>\n",
              "      <td>4.0</td>\n",
              "      <td>Kaleb Di Masi</td>\n",
              "      <td>Turraka - Remix</td>\n",
              "      <td>1</td>\n",
              "      <td>1</td>\n",
              "      <td>1</td>\n",
              "      <td>2021-09-09</td>\n",
              "      <td>79</td>\n",
              "      <td>1</td>\n",
              "    </tr>\n",
              "    <tr>\n",
              "      <th>4Yip3hds5IHyT7AqoNHfmX</th>\n",
              "      <td>0.744</td>\n",
              "      <td>0.679</td>\n",
              "      <td>5.0</td>\n",
              "      <td>-3.510</td>\n",
              "      <td>1.0</td>\n",
              "      <td>0.0791</td>\n",
              "      <td>0.0654</td>\n",
              "      <td>0.004290</td>\n",
              "      <td>0.0966</td>\n",
              "      <td>0.866</td>\n",
              "      <td>176.024</td>\n",
              "      <td>audio_features</td>\n",
              "      <td>4Yip3hds5IHyT7AqoNHfmX</td>\n",
              "      <td>199773.0</td>\n",
              "      <td>4.0</td>\n",
              "      <td>Maria Becerra</td>\n",
              "      <td>Wow Wow (feat. Becky G)</td>\n",
              "      <td>1</td>\n",
              "      <td>11</td>\n",
              "      <td>7</td>\n",
              "      <td>2021-08-26</td>\n",
              "      <td>72</td>\n",
              "      <td>1</td>\n",
              "    </tr>\n",
              "    <tr>\n",
              "      <th>6w8yBI2vthyN9UnwO4UBWb</th>\n",
              "      <td>0.729</td>\n",
              "      <td>0.513</td>\n",
              "      <td>5.0</td>\n",
              "      <td>-6.345</td>\n",
              "      <td>0.0</td>\n",
              "      <td>0.0455</td>\n",
              "      <td>0.4940</td>\n",
              "      <td>0.000001</td>\n",
              "      <td>0.1370</td>\n",
              "      <td>0.789</td>\n",
              "      <td>170.064</td>\n",
              "      <td>audio_features</td>\n",
              "      <td>6w8yBI2vthyN9UnwO4UBWb</td>\n",
              "      <td>192353.0</td>\n",
              "      <td>3.0</td>\n",
              "      <td>Tiago PZK</td>\n",
              "      <td>Entre Nosotros</td>\n",
              "      <td>1</td>\n",
              "      <td>1</td>\n",
              "      <td>1</td>\n",
              "      <td>2021-07-08</td>\n",
              "      <td>89</td>\n",
              "      <td>1</td>\n",
              "    </tr>\n",
              "    <tr>\n",
              "      <th>1wcE84DVQUF16xudVFzezL</th>\n",
              "      <td>0.860</td>\n",
              "      <td>0.516</td>\n",
              "      <td>6.0</td>\n",
              "      <td>-5.518</td>\n",
              "      <td>0.0</td>\n",
              "      <td>0.1450</td>\n",
              "      <td>0.0616</td>\n",
              "      <td>0.000000</td>\n",
              "      <td>0.0791</td>\n",
              "      <td>0.591</td>\n",
              "      <td>98.005</td>\n",
              "      <td>audio_features</td>\n",
              "      <td>1wcE84DVQUF16xudVFzezL</td>\n",
              "      <td>190406.0</td>\n",
              "      <td>4.0</td>\n",
              "      <td>Mau y Ricky</td>\n",
              "      <td>Mal Acostumbrao</td>\n",
              "      <td>1</td>\n",
              "      <td>1</td>\n",
              "      <td>1</td>\n",
              "      <td>2021-09-02</td>\n",
              "      <td>80</td>\n",
              "      <td>1</td>\n",
              "    </tr>\n",
              "    <tr>\n",
              "      <th>4xv2A022v5A8nyewDkYOkQ</th>\n",
              "      <td>0.793</td>\n",
              "      <td>0.352</td>\n",
              "      <td>8.0</td>\n",
              "      <td>-7.675</td>\n",
              "      <td>1.0</td>\n",
              "      <td>0.0955</td>\n",
              "      <td>0.3020</td>\n",
              "      <td>0.000000</td>\n",
              "      <td>0.1750</td>\n",
              "      <td>0.666</td>\n",
              "      <td>80.014</td>\n",
              "      <td>audio_features</td>\n",
              "      <td>4xv2A022v5A8nyewDkYOkQ</td>\n",
              "      <td>213000.0</td>\n",
              "      <td>4.0</td>\n",
              "      <td>Emilia</td>\n",
              "      <td>Rápido Lento</td>\n",
              "      <td>1</td>\n",
              "      <td>1</td>\n",
              "      <td>1</td>\n",
              "      <td>2021-09-30</td>\n",
              "      <td>70</td>\n",
              "      <td>1</td>\n",
              "    </tr>\n",
              "  </tbody>\n",
              "</table>\n",
              "</div>"
            ],
            "text/plain": [
              "                        danceability  energy  key  ...        Date  Popularity  TOP\n",
              "2Qv0DF1us4LhzLj0Cx9cSn         0.799   0.600  7.0  ...  2021-09-09          79    1\n",
              "4Yip3hds5IHyT7AqoNHfmX         0.744   0.679  5.0  ...  2021-08-26          72    1\n",
              "6w8yBI2vthyN9UnwO4UBWb         0.729   0.513  5.0  ...  2021-07-08          89    1\n",
              "1wcE84DVQUF16xudVFzezL         0.860   0.516  6.0  ...  2021-09-02          80    1\n",
              "4xv2A022v5A8nyewDkYOkQ         0.793   0.352  8.0  ...  2021-09-30          70    1\n",
              "\n",
              "[5 rows x 23 columns]"
            ]
          },
          "metadata": {},
          "execution_count": 15
        }
      ]
    },
    {
      "cell_type": "markdown",
      "metadata": {
        "id": "hebDZaIxj7i8"
      },
      "source": [
        "---\n",
        "\n",
        "Ahora, para aumentar la cantidad de datos, vamos a agarrar otras playlist con canciones que ya se que no estan en el top y vamos a crear otro dataframe.\n",
        "\n",
        "\n",
        "OBS: Descargue mas cantidad de playlists para hacer estadistica. "
      ]
    },
    {
      "cell_type": "code",
      "metadata": {
        "colab": {
          "base_uri": "https://localhost:8080/"
        },
        "id": "yN2QbGRsr3l2",
        "outputId": "ceb8acbd-80db-457e-d403-58c30bede2e2"
      },
      "source": [
        "#elijamos alguna otra de mis playlists\n",
        "\n",
        "# Claves obtenidas de Spotify.\n",
        "\n",
        "CLIENT_ID = 'a0eb698c3613416685dbb50274e4437d'\n",
        "CLIENT_SECRET = 'ac844b556d06485a9404fba52a9f839e'\n",
        "response = requests.post('https://accounts.spotify.com/api/token', data = {'grant_type': 'client_credentials', 'client_id': CLIENT_ID, 'client_secret': CLIENT_SECRET})\n",
        "access_token = response.json()['access_token']\n",
        "\n",
        "# Acá le pasamos el token que obtuvimos antes. Lo demás son algunas cosas generales que suelen ir \n",
        "headers_ = {'Authorization': 'Bearer {}'.format(access_token), 'Accept': 'application/json', 'Content-Type': 'application/json'}\n",
        "user_='11169876763'\n",
        "url_ = 'https://api.spotify.com/v1/users/{}/playlists?limit=50&offset=0'.format(user_)\n",
        "\n",
        "# En este caso no lleva ningún parámetro, el id de la canción va directamente en el url\n",
        "response_ = requests.get(url_, params = {}, headers = headers_)\n",
        "json_data_ = response_.json()\n",
        "\n",
        "len_json = np.size(json_data_['items'])\n",
        "\n",
        "for i in range(len_json):\n",
        "  print(i,json_data_['items'][i]['name'])"
      ],
      "execution_count": null,
      "outputs": [
        {
          "output_type": "stream",
          "name": "stdout",
          "text": [
            "0 Coconut Radio\n",
            "1 Rock Argentino años 60\n",
            "2 ROCK NACIONAL ARGENTINO || 2020\n",
            "3  ROCK ARGENTINO 🔥 : Rock Nacional Argentino\n",
            "4 Rock argentino 2000-2020\n",
            "5 Rock argentino 2000\n",
            "6 Rock Nacional Argentino 2000s\n",
            "7 Rock Argentino 60’70’80’\n",
            "8 ROCK ARGENTINO 70's\n",
            "9 Rock Argentino 80's\n",
            "10 Rock argentino 90's\n",
            "11 Rock Nacional 80 y 90's\n",
            "12 Mix rock nacional 80'90'\n",
            "13 Rock nacional 60 y 70\n",
            "14 Rock nacional '60 y '70 (y algo de los '80)\n",
            "15 Rock nacional 60 70 80\n",
            "16 Rock Nacional de los 70\n",
            "17 Rock nacional 2010-2019\n",
            "18 Rock Nacional 2000 - 2010\n",
            "19 Rock Nacional 90's ARG\n",
            "20 Rock Nacional 80's ARG\n",
            "21 Rock Nacional 70/80’\n",
            "22  ROCK NACIONAL ARGENTINO \n",
            "23 Best Classical Music\n",
            "24 Guardians of the Galaxy Vol. 1&2 \n",
            "25 Antidomingo\n",
            "26 Top 50 - Argentina\n",
            "27 Rock nac\n",
            "28 Disparo al corazón\n",
            "29 Shazam\n",
            "30 Mis pistas en Shazam\n",
            "31 Shazam (<2018)\n",
            "32 All Out 70s\n",
            "33 Abel Pintos — Unico (En Vivo)\n",
            "34 MILO\n",
            "35 Top 50 - Global\n",
            "36 stefy\n",
            "37 Classical World: Italy\n",
            "38 Def Jam Classics: The Playlist\n",
            "39 Dance Hits\n",
            "40 Éxitos Argentina\n",
            "41 Folklore de Siempre\n",
            "42 Verano Forever\n",
            "43 Iconos del Rock Argentino\n"
          ]
        }
      ]
    },
    {
      "cell_type": "code",
      "metadata": {
        "colab": {
          "base_uri": "https://localhost:8080/"
        },
        "id": "K_rwhtJ2hMl9",
        "outputId": "9afacf14-cbfc-4f4f-97bb-069d353fa050"
      },
      "source": [
        "list1 = list(np.arange(26)) #Elijo listas random menos la del top50\n",
        "list2 = [27,28,43]\n",
        "list1.extend(list2)\n",
        "print(list1)"
      ],
      "execution_count": null,
      "outputs": [
        {
          "output_type": "stream",
          "name": "stdout",
          "text": [
            "[0, 1, 2, 3, 4, 5, 6, 7, 8, 9, 10, 11, 12, 13, 14, 15, 16, 17, 18, 19, 20, 21, 22, 23, 24, 25, 27, 28, 43]\n"
          ]
        }
      ]
    },
    {
      "cell_type": "code",
      "metadata": {
        "colab": {
          "base_uri": "https://localhost:8080/"
        },
        "id": "fFGzGpfalFnA",
        "outputId": "0d85308a-7957-4321-ccba-4c0140531207"
      },
      "source": [
        "#Elijamos algunas playlist que no sean el TOP 50\n",
        "playlists = list1 #nro de playlists (Las ultimas playlists que descargue para el entrenamiento)\n",
        "#playlists = [0,1,2,3,4] #Rock nacional\n",
        "analyzer = spotydatos(CLIENT_ID,CLIENT_SECRET)\n",
        "appended_df_lyrics = []\n",
        "appended_df_features = []\n",
        "\n",
        "for nro in playlists:\n",
        "  playlist_id = json_data_['items'][nro]['id']\n",
        "   \n",
        "  try:\n",
        "    \n",
        "    #las tracks ID, nombres y artistas de las canciones de la playlist\n",
        "    songs = analyzer.get_songs_on_playlist(playlist_id,only_id=False)\n",
        "    songs = songs[0:-2] #Borramos la ultima cancion de cada playlist\n",
        "    #hay muchas playlist con 100 canciones Y 100 CANCIONES ES EL LIMITE, nos quedamos con 99 y listo!\n",
        "    songs_names = []\n",
        "    songs_artists = []\n",
        "    songs_id = []\n",
        "    songs_total_tracks = []\n",
        "    songs_track_number = []\n",
        "    songs_disc_number = []\n",
        "    songs_popularity = []\n",
        "    songs_date = []\n",
        "    songs_names_raw = [] #esto me va a servir para mas tarde\n",
        "    songs_artists_raw = [] #esto me va a servir para mas tarde\n",
        "\n",
        "    for i in range(np.size(songs)):\n",
        "      songs_names.append(songs[i]['Track name'])\n",
        "      songs_names_raw.append(songs[i]['Track name'])\n",
        "      songs_artists.append(songs[i]['Artist'])\n",
        "      songs_artists_raw.append(songs[i]['Artist'])\n",
        "      songs_id.append(songs[i]['id'])\n",
        "      songs_total_tracks.append(songs[i]['Total tracks'])\n",
        "      songs_track_number.append(songs[i]['Track number'])\n",
        "      songs_disc_number.append(songs[i]['Disc number'])\n",
        "      songs_popularity.append(songs[i]['Popularity'])\n",
        "      songs_date.append(songs[i]['Date'])\n",
        "    #print(songs_id)\n",
        "\n",
        "    #las features de las canciones\n",
        "    features = []\n",
        "    for j in range(np.size(songs_id)): #de nuevo, len(list) no funca! \n",
        "      features.append(analyzer.get_song_features(songs_id[j]))\n",
        "\n",
        "    #Dataframe de features\n",
        "    df_features_NO_top = pd.DataFrame(features, index=songs_id)\n",
        "    df_features_NO_top.drop(df_features_NO_top['id'])\n",
        "    df_features_NO_top['Disc number'] = songs_disc_number #agregamos features\n",
        "    df_features_NO_top['Total tracks'] = songs_total_tracks\n",
        "    df_features_NO_top['Track number'] = songs_track_number\n",
        "    df_features_NO_top['Date'] = songs_date\n",
        "    df_features_NO_top['Popularity'] = songs_popularity\n",
        "    df_features_NO_top['TOP'] = 0 #No esta en el top\n",
        "    df_features_NO_top['Artist'] = songs_artists_raw\n",
        "    df_features_NO_top['Song'] = songs_names_raw\n",
        "    appended_df_features.append(df_features_NO_top)\n",
        "    \n",
        "    del features\n",
        "    del songs\n",
        "    del df_features_NO_top\n",
        "\n",
        "    \n",
        "    #las letras\n",
        "    url_base = 'https://www.musica.com/letras.asp?t2='\n",
        "    urls = []\n",
        "    songs_names_clean = []\n",
        "\n",
        "    for song in range(np.size(songs_names)):\n",
        "      songs_names[song] = songs_names[song].replace(' ','+').replace('á','a').replace('é','e').replace('í','i').replace('ó','o').replace('ú','u').replace('Á','a').replace('É','e').replace('Í','i').replace('Ó','o').replace('Ú','u').lower()\n",
        "      songs_artists[song] = songs_artists[song].replace(' ','+').replace('á','a').replace('é','e').replace('í','i').replace('ó','o').replace('ú','u').replace('Á','a').replace('É','e').replace('Í','i').replace('Ó','o').replace('Ú','u').lower()\n",
        "      split_1 = songs_names[song].split(':',1) #sacamos los (feat), remix, :, ...\n",
        "      split_2 = split_1[0].split('+(',1)\n",
        "      split_3 = split_2[0].split('(',1)\n",
        "      split_4 = split_3[0].split('remix',1)\n",
        "      split_5 = split_4[0].split('+-',1)\n",
        "      songs_names_clean.append(split_5[0]) \n",
        "      #print(song, split_4[0])\n",
        "      \n",
        "      urls.append([url_base + songs_names_clean[song] +'+'+ songs_artists[song]])\n",
        "\n",
        "    # Hacemos un request iterativo a la página de musica.com y sacamos como output los urls a las letras\n",
        "    url_lyrics = []\n",
        "\n",
        "    for url in np.arange(np.size(urls)):\n",
        "      try:\n",
        "        search = requests.get(urls[url][0])\n",
        "        search_parseada = bs(search.content, 'html.parser') # Parseamos el contenido del request como un html\n",
        "        # Soup\n",
        "        soup = bs(response.content)\n",
        "        tag_song = search_parseada.find(name = 'table', attrs = {'class' : 'rst'}) #tag madre\n",
        "        tag_song = tag_song.find(name = 'a') # tag en donde esta el link a la letra\n",
        "        url_lyrics.append(tag_song['href']) # el link en cuestion\n",
        "        #print(url)\n",
        "      except:\n",
        "        url_lyrics.append(np.NaN) #le asigno un NaN\n",
        "        #print(url, 'Lyrics not found')\n",
        "\n",
        "    #iteramos sobre toda las urls de las letras\n",
        "    lyrics = []\n",
        "    for url in np.arange(np.size(url_lyrics)):\n",
        "      try:\n",
        "        search_song = requests.get(url_lyrics[url]) #pedimos el request\n",
        "        search_song_parseada = bs(search_song.content, 'html.parser')\n",
        "\n",
        "        body = search_song_parseada.find(name = 'div', attrs = {'id' : 'letra'}) #aca esta la letra, entre otras cosas\n",
        "\n",
        "        letra_raw = body.find_all('p') #buscamos los paragraphs\n",
        "        letra_raw_string = str(letra_raw) #to string\n",
        "        letra_raw_string = str(letra_raw).replace('<br/>',' ').replace('</p>','').replace('<p>','') #mas bonita\n",
        "        lyrics.append(letra_raw_string)\n",
        "        #print(url)\n",
        "      except:\n",
        "        lyrics.append(np.NaN)\n",
        "        #print(url,'Lyrics not found')\n",
        "\n",
        "    #Dataframe lyrics\n",
        "    df_lyrics_NO_top = pd.DataFrame(list(zip(songs_names_raw,songs_artists_raw,lyrics)),index=songs_id)\n",
        "    df_lyrics_NO_top['TOP'] = 0 #No esta en el top\n",
        "    appended_df_lyrics.append(df_lyrics_NO_top)\n",
        "\n",
        "\n",
        "    print(nro, 'Playlist: {}'.format(json_data_['items'][nro]['name']),'(worked!)')\n",
        "  except:\n",
        "    print(nro, 'Playlist: {}'.format(json_data_['items'][nro]['name']),'(not working)')\n",
        "    pass\n",
        "\n"
      ],
      "execution_count": null,
      "outputs": [
        {
          "output_type": "stream",
          "name": "stdout",
          "text": [
            "0 Playlist: Coconut Radio (worked!)\n",
            "1 Playlist: Rock Argentino años 60 (worked!)\n",
            "2 Playlist: ROCK NACIONAL ARGENTINO || 2020 (worked!)\n",
            "3 Playlist:  ROCK ARGENTINO 🔥 : Rock Nacional Argentino (worked!)\n",
            "4 Playlist: Rock argentino 2000-2020 (worked!)\n",
            "5 Playlist: Rock argentino 2000 (worked!)\n",
            "6 Playlist: Rock Nacional Argentino 2000s (worked!)\n",
            "7 Playlist: Rock Argentino 60’70’80’ (worked!)\n",
            "8 Playlist: ROCK ARGENTINO 70's (worked!)\n",
            "9 Playlist: Rock Argentino 80's (worked!)\n",
            "10 Playlist: Rock argentino 90's (worked!)\n",
            "11 Playlist: Rock Nacional 80 y 90's (worked!)\n",
            "12 Playlist: Mix rock nacional 80'90' (worked!)\n",
            "13 Playlist: Rock nacional 60 y 70 (worked!)\n",
            "14 Playlist: Rock nacional '60 y '70 (y algo de los '80) (worked!)\n",
            "15 Playlist: Rock nacional 60 70 80 (worked!)\n",
            "16 Playlist: Rock Nacional de los 70 (worked!)\n",
            "17 Playlist: Rock nacional 2010-2019 (worked!)\n",
            "18 Playlist: Rock Nacional 2000 - 2010 (worked!)\n",
            "19 Playlist: Rock Nacional 90's ARG (worked!)\n",
            "20 Playlist: Rock Nacional 80's ARG (worked!)\n",
            "21 Playlist: Rock Nacional 70/80’ (worked!)\n",
            "22 Playlist:  ROCK NACIONAL ARGENTINO  (worked!)\n",
            "23 Playlist: Best Classical Music (worked!)\n",
            "24 Playlist: Guardians of the Galaxy Vol. 1&2  (worked!)\n",
            "25 Playlist: Antidomingo (worked!)\n",
            "27 Playlist: Rock nac (worked!)\n",
            "28 Playlist: Disparo al corazón (worked!)\n",
            "43 Playlist: Iconos del Rock Argentino (worked!)\n"
          ]
        }
      ]
    },
    {
      "cell_type": "code",
      "metadata": {
        "colab": {
          "base_uri": "https://localhost:8080/"
        },
        "id": "s4C6UfeibGba",
        "outputId": "47f2a8f7-7007-4909-fc49-99e3e3193910"
      },
      "source": [
        "track_id = songs_id[0]\n",
        "headers = {'Authorization': 'Bearer {}'.format(access_token), 'Accept': 'application/json', 'Content-Type': 'application/json'}\n",
        "url = 'https://api.spotify.com/v1/audio-features/{}'.format(track_id)\n",
        "response = requests.get(url, params = {}, headers = headers)\n",
        "json_data = response.json()\n",
        "json_data.keys()"
      ],
      "execution_count": null,
      "outputs": [
        {
          "output_type": "execute_result",
          "data": {
            "text/plain": [
              "dict_keys(['danceability', 'energy', 'key', 'loudness', 'mode', 'speechiness', 'acousticness', 'instrumentalness', 'liveness', 'valence', 'tempo', 'type', 'id', 'uri', 'track_href', 'analysis_url', 'duration_ms', 'time_signature'])"
            ]
          },
          "metadata": {},
          "execution_count": 19
        }
      ]
    },
    {
      "cell_type": "code",
      "metadata": {
        "id": "3bDZRcDJveg8"
      },
      "source": [
        "#dataframe final de las features de las canciones que no estan en el TOP\n",
        "df_no_top_features = pd.concat(appended_df_features)\n",
        "\n",
        "#dataframe final de las letras de las canciones que no estan en el TOP\n",
        "df_no_top_lyrics = pd.concat(appended_df_lyrics)\n",
        "\n",
        "#mergeamos todo\n",
        "\n",
        "df_FINAL_features = df_no_top_features.append(df_features_top)\n",
        "df_FINAL_lyrics = df_no_top_lyrics.append(df_lyrics_top)"
      ],
      "execution_count": null,
      "outputs": []
    },
    {
      "cell_type": "code",
      "metadata": {
        "colab": {
          "base_uri": "https://localhost:8080/",
          "height": 417
        },
        "id": "cEmnAr3OlAzC",
        "outputId": "00271ea1-541b-4983-d278-db8cd5aeac4f"
      },
      "source": [
        "df_FINAL_features.head()"
      ],
      "execution_count": null,
      "outputs": [
        {
          "output_type": "execute_result",
          "data": {
            "text/html": [
              "<div>\n",
              "<style scoped>\n",
              "    .dataframe tbody tr th:only-of-type {\n",
              "        vertical-align: middle;\n",
              "    }\n",
              "\n",
              "    .dataframe tbody tr th {\n",
              "        vertical-align: top;\n",
              "    }\n",
              "\n",
              "    .dataframe thead th {\n",
              "        text-align: right;\n",
              "    }\n",
              "</style>\n",
              "<table border=\"1\" class=\"dataframe\">\n",
              "  <thead>\n",
              "    <tr style=\"text-align: right;\">\n",
              "      <th></th>\n",
              "      <th>danceability</th>\n",
              "      <th>energy</th>\n",
              "      <th>key</th>\n",
              "      <th>loudness</th>\n",
              "      <th>mode</th>\n",
              "      <th>speechiness</th>\n",
              "      <th>acousticness</th>\n",
              "      <th>instrumentalness</th>\n",
              "      <th>liveness</th>\n",
              "      <th>valence</th>\n",
              "      <th>tempo</th>\n",
              "      <th>type</th>\n",
              "      <th>id</th>\n",
              "      <th>duration_ms</th>\n",
              "      <th>time_signature</th>\n",
              "      <th>Disc number</th>\n",
              "      <th>Total tracks</th>\n",
              "      <th>Track number</th>\n",
              "      <th>Date</th>\n",
              "      <th>Popularity</th>\n",
              "      <th>TOP</th>\n",
              "      <th>Artist</th>\n",
              "      <th>Song</th>\n",
              "    </tr>\n",
              "  </thead>\n",
              "  <tbody>\n",
              "    <tr>\n",
              "      <th>3c8JemHol1XwFFruXQxjCO</th>\n",
              "      <td>0.496</td>\n",
              "      <td>0.368</td>\n",
              "      <td>4.0</td>\n",
              "      <td>-15.194</td>\n",
              "      <td>1.0</td>\n",
              "      <td>0.0338</td>\n",
              "      <td>0.460</td>\n",
              "      <td>0.000075</td>\n",
              "      <td>0.3110</td>\n",
              "      <td>0.628</td>\n",
              "      <td>128.331</td>\n",
              "      <td>audio_features</td>\n",
              "      <td>3c8JemHol1XwFFruXQxjCO</td>\n",
              "      <td>152227.0</td>\n",
              "      <td>4.0</td>\n",
              "      <td>1</td>\n",
              "      <td>12</td>\n",
              "      <td>1</td>\n",
              "      <td>1985-01-01</td>\n",
              "      <td>63</td>\n",
              "      <td>0</td>\n",
              "      <td>Various Artists</td>\n",
              "      <td>Everybody's Talkin'</td>\n",
              "    </tr>\n",
              "    <tr>\n",
              "      <th>6vxHp3CDNo0afgKGp2yi1E</th>\n",
              "      <td>0.626</td>\n",
              "      <td>0.816</td>\n",
              "      <td>9.0</td>\n",
              "      <td>-10.593</td>\n",
              "      <td>1.0</td>\n",
              "      <td>0.1310</td>\n",
              "      <td>0.237</td>\n",
              "      <td>0.000002</td>\n",
              "      <td>0.1040</td>\n",
              "      <td>0.798</td>\n",
              "      <td>105.307</td>\n",
              "      <td>audio_features</td>\n",
              "      <td>6vxHp3CDNo0afgKGp2yi1E</td>\n",
              "      <td>164813.0</td>\n",
              "      <td>4.0</td>\n",
              "      <td>1</td>\n",
              "      <td>14</td>\n",
              "      <td>6</td>\n",
              "      <td>1972-01-14</td>\n",
              "      <td>70</td>\n",
              "      <td>0</td>\n",
              "      <td>Paul Simon</td>\n",
              "      <td>Me and Julio Down by the Schoolyard</td>\n",
              "    </tr>\n",
              "    <tr>\n",
              "      <th>7CQXyFX44CXmnuq8Bi9Dyc</th>\n",
              "      <td>0.542</td>\n",
              "      <td>0.492</td>\n",
              "      <td>2.0</td>\n",
              "      <td>-11.927</td>\n",
              "      <td>1.0</td>\n",
              "      <td>0.0256</td>\n",
              "      <td>0.467</td>\n",
              "      <td>0.001050</td>\n",
              "      <td>0.0863</td>\n",
              "      <td>0.580</td>\n",
              "      <td>103.064</td>\n",
              "      <td>audio_features</td>\n",
              "      <td>7CQXyFX44CXmnuq8Bi9Dyc</td>\n",
              "      <td>279280.0</td>\n",
              "      <td>4.0</td>\n",
              "      <td>1</td>\n",
              "      <td>11</td>\n",
              "      <td>4</td>\n",
              "      <td>1967-03-10</td>\n",
              "      <td>55</td>\n",
              "      <td>0</td>\n",
              "      <td>The Youngbloods</td>\n",
              "      <td>Get Together</td>\n",
              "    </tr>\n",
              "    <tr>\n",
              "      <th>1CAO7hiNOxJRPW4nFv2aRO</th>\n",
              "      <td>0.673</td>\n",
              "      <td>0.673</td>\n",
              "      <td>1.0</td>\n",
              "      <td>-13.941</td>\n",
              "      <td>1.0</td>\n",
              "      <td>0.0493</td>\n",
              "      <td>0.373</td>\n",
              "      <td>0.026500</td>\n",
              "      <td>0.2060</td>\n",
              "      <td>0.825</td>\n",
              "      <td>119.994</td>\n",
              "      <td>audio_features</td>\n",
              "      <td>1CAO7hiNOxJRPW4nFv2aRO</td>\n",
              "      <td>198933.0</td>\n",
              "      <td>4.0</td>\n",
              "      <td>1</td>\n",
              "      <td>9</td>\n",
              "      <td>7</td>\n",
              "      <td>1970-01-01</td>\n",
              "      <td>64</td>\n",
              "      <td>0</td>\n",
              "      <td>Three Dog Night</td>\n",
              "      <td>Mama Told Me (Not To Come) - Single Version</td>\n",
              "    </tr>\n",
              "    <tr>\n",
              "      <th>3k63RLvRgkgPGx0keOH3P6</th>\n",
              "      <td>0.460</td>\n",
              "      <td>0.389</td>\n",
              "      <td>0.0</td>\n",
              "      <td>-11.603</td>\n",
              "      <td>1.0</td>\n",
              "      <td>0.0310</td>\n",
              "      <td>0.349</td>\n",
              "      <td>0.000000</td>\n",
              "      <td>0.0533</td>\n",
              "      <td>0.606</td>\n",
              "      <td>123.213</td>\n",
              "      <td>audio_features</td>\n",
              "      <td>3k63RLvRgkgPGx0keOH3P6</td>\n",
              "      <td>159973.0</td>\n",
              "      <td>4.0</td>\n",
              "      <td>1</td>\n",
              "      <td>12</td>\n",
              "      <td>7</td>\n",
              "      <td>1967-06-05</td>\n",
              "      <td>57</td>\n",
              "      <td>0</td>\n",
              "      <td>Stone Poneys</td>\n",
              "      <td>Different Drum</td>\n",
              "    </tr>\n",
              "  </tbody>\n",
              "</table>\n",
              "</div>"
            ],
            "text/plain": [
              "                        danceability  ...                                         Song\n",
              "3c8JemHol1XwFFruXQxjCO         0.496  ...                          Everybody's Talkin'\n",
              "6vxHp3CDNo0afgKGp2yi1E         0.626  ...          Me and Julio Down by the Schoolyard\n",
              "7CQXyFX44CXmnuq8Bi9Dyc         0.542  ...                                 Get Together\n",
              "1CAO7hiNOxJRPW4nFv2aRO         0.673  ...  Mama Told Me (Not To Come) - Single Version\n",
              "3k63RLvRgkgPGx0keOH3P6         0.460  ...                               Different Drum\n",
              "\n",
              "[5 rows x 23 columns]"
            ]
          },
          "metadata": {},
          "execution_count": 21
        }
      ]
    },
    {
      "cell_type": "markdown",
      "metadata": {
        "id": "NZLXYAUWpaK2"
      },
      "source": [
        "# Google Drive Mount"
      ]
    },
    {
      "cell_type": "code",
      "metadata": {
        "colab": {
          "base_uri": "https://localhost:8080/"
        },
        "id": "a-XhLtGUye3w",
        "outputId": "c90e54fc-fdb2-4099-ec24-2060bb7a2b35"
      },
      "source": [
        "#todo a .txt nomas! \n",
        "\n",
        "from google.colab import drive\n",
        "drive.mount('drive')"
      ],
      "execution_count": null,
      "outputs": [
        {
          "output_type": "stream",
          "name": "stdout",
          "text": [
            "Mounted at drive\n"
          ]
        }
      ]
    },
    {
      "cell_type": "code",
      "metadata": {
        "id": "U3aLF3e_3FcC"
      },
      "source": [
        "df_FINAL_features.to_csv('df_FINAL_features_random.csv')\n",
        "!cp df_FINAL_features_random.csv \"drive/My Drive/LaboDatos/\"\n",
        "\n",
        "df_FINAL_lyrics.to_csv('df_FINAL_lyrics_random.csv')\n",
        "!cp df_FINAL_lyrics_random.csv \"drive/My Drive/LaboDatos/\"\n",
        "\n",
        "df_no_top_lyrics.to_csv('df_no_top_lyrics_random.csv')\n",
        "!cp df_no_top_lyrics_random.csv \"drive/My Drive/LaboDatos/\"\n",
        "\n",
        "df_lyrics_top.to_csv('df_lyrics_top_random.csv')\n",
        "!cp df_lyrics_top_random.csv \"drive/My Drive/LaboDatos/\"\n"
      ],
      "execution_count": null,
      "outputs": []
    }
  ]
}